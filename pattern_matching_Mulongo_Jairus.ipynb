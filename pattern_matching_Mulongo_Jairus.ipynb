{
  "nbformat": 4,
  "nbformat_minor": 0,
  "metadata": {
    "colab": {
      "provenance": [],
      "toc_visible": true,
      "authorship_tag": "ABX9TyPw8j2b8SOMGVoNhViFVBm5",
      "include_colab_link": true
    },
    "kernelspec": {
      "name": "python3",
      "display_name": "Python 3"
    },
    "language_info": {
      "name": "python"
    }
  },
  "cells": [
    {
      "cell_type": "markdown",
      "metadata": {
        "id": "view-in-github",
        "colab_type": "text"
      },
      "source": [
        "<a href=\"https://colab.research.google.com/github/JairusTheAnalyst/JairusTheAnalyst/blob/main/pattern_matching_Mulongo_Jairus.ipynb\" target=\"_parent\"><img src=\"https://colab.research.google.com/assets/colab-badge.svg\" alt=\"Open In Colab\"/></a>"
      ]
    },
    {
      "cell_type": "code",
      "execution_count": null,
      "metadata": {
        "colab": {
          "base_uri": "https://localhost:8080/"
        },
        "id": "K1wL_RcoDKLc",
        "outputId": "a8699983-6acd-4725-f749-164a5c6ac70a"
      },
      "outputs": [
        {
          "output_type": "stream",
          "name": "stdout",
          "text": [
            "Naive: [10]\n",
            "KMP: [10]\n",
            "Boyer-Moore: [10]\n"
          ]
        }
      ],
      "source": [
        "def naive_search(text, pattern):\n",
        "    matches = []\n",
        "    for i in range(len(text) - len(pattern) + 1):\n",
        "        if text[i:i+len(pattern)] == pattern:\n",
        "            matches.append(i)\n",
        "    return matches\n",
        "\n",
        "def kmp_search(text, pattern):\n",
        "    def compute_lps(pattern):\n",
        "        lps = [0] * len(pattern)\n",
        "        length = 0\n",
        "        i = 1\n",
        "        while i < len(pattern):\n",
        "            if pattern[i] == pattern[length]:\n",
        "                length += 1\n",
        "                lps[i] = length\n",
        "                i += 1\n",
        "            else:\n",
        "                if length != 0:\n",
        "                    length = lps[length - 1]\n",
        "                else:\n",
        "                    lps[i] = 0\n",
        "                    i += 1\n",
        "        return lps\n",
        "\n",
        "    lps = compute_lps(pattern)\n",
        "    matches, i, j = [], 0, 0\n",
        "    while i < len(text):\n",
        "        if text[i] == pattern[j]:\n",
        "            i += 1\n",
        "            j += 1\n",
        "        if j == len(pattern):\n",
        "            matches.append(i - j)\n",
        "            j = lps[j - 1]\n",
        "        elif i < len(text) and text[i] != pattern[j]:\n",
        "            j = lps[j - 1] if j != 0 else 0\n",
        "            i += 1 if j == 0 else 0\n",
        "    return matches\n",
        "\n",
        "def boyer_moore(text, pattern):\n",
        "    def bad_char_heuristic(pattern):\n",
        "        bad_char = [-1] * 256\n",
        "        for i in range(len(pattern)):\n",
        "            bad_char[ord(pattern[i])] = i\n",
        "        return bad_char\n",
        "\n",
        "    bad_char = bad_char_heuristic(pattern)\n",
        "    matches = []\n",
        "    s = 0\n",
        "    while s <= len(text) - len(pattern):\n",
        "        j = len(pattern) - 1\n",
        "        while j >= 0 and pattern[j] == text[s + j]:\n",
        "            j -= 1\n",
        "        if j < 0:\n",
        "            matches.append(s)\n",
        "            s += len(pattern) - bad_char[ord(text[s + len(pattern)])] if s + len(pattern) < len(text) else 1\n",
        "        else:\n",
        "            s += max(1, j - bad_char[ord(text[s + j])])\n",
        "    return matches\n",
        "\n",
        "# Sample test\n",
        "text = \"ABABDABACDABABCABAB\"\n",
        "pattern = \"ABABCABAB\"\n",
        "\n",
        "print(\"Naive:\", naive_search(text, pattern))\n",
        "print(\"KMP:\", kmp_search(text, pattern))\n",
        "print(\"Boyer-Moore:\", boyer_moore(text, pattern))\n"
      ]
    },
    {
      "cell_type": "markdown",
      "source": [
        "# New Section"
      ],
      "metadata": {
        "id": "uouI0s_DL40k"
      }
    }
  ]
}
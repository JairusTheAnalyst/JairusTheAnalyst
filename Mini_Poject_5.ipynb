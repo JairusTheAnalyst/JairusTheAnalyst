{
  "nbformat": 4,
  "nbformat_minor": 0,
  "metadata": {
    "colab": {
      "provenance": [],
      "authorship_tag": "ABX9TyNqBS34yT8dnA/npql3wCXH",
      "include_colab_link": true
    },
    "kernelspec": {
      "name": "python3",
      "display_name": "Python 3"
    },
    "language_info": {
      "name": "python"
    }
  },
  "cells": [
    {
      "cell_type": "markdown",
      "metadata": {
        "id": "view-in-github",
        "colab_type": "text"
      },
      "source": [
        "<a href=\"https://colab.research.google.com/github/JairusTheAnalyst/JairusTheAnalyst/blob/main/Mini_Poject_5.ipynb\" target=\"_parent\"><img src=\"https://colab.research.google.com/assets/colab-badge.svg\" alt=\"Open In Colab\"/></a>"
      ]
    },
    {
      "cell_type": "code",
      "execution_count": 3,
      "metadata": {
        "colab": {
          "base_uri": "https://localhost:8080/"
        },
        "id": "UZSnceazNNro",
        "outputId": "2aeb8bfb-fd1c-429b-87cc-f8479170a2da"
      },
      "outputs": [
        {
          "output_type": "stream",
          "name": "stdout",
          "text": [
            "Image not found at C:/Users/User/Downloads/image1.jpg\n"
          ]
        }
      ],
      "source": [
        "import numpy as np\n",
        "import matplotlib.pyplot as plt\n",
        "from PIL import Image\n",
        "import os\n",
        "\n",
        "# Function to load an image\n",
        "def load_image(image_path):\n",
        "    image = Image.open(image_path).convert('L')  # Convert to grayscale\n",
        "    return np.array(image)\n",
        "\n",
        "# Function to perform SVD and compress the image\n",
        "def svd_compress(image, num_singular_values):\n",
        "    U, S, VT = np.linalg.svd(image, full_matrices=False)\n",
        "    S_reduced = np.diag(S[:num_singular_values])\n",
        "    U_reduced = U[:, :num_singular_values]\n",
        "    VT_reduced = VT[:num_singular_values, :]\n",
        "    image_reconstructed = np.dot(U_reduced, np.dot(S_reduced, VT_reduced))\n",
        "    return image_reconstructed\n",
        "\n",
        "# Function to calculate compression ratio\n",
        "def calculate_compression_ratio(image, num_singular_values):\n",
        "    m, n = image.shape\n",
        "    # Total elements in compressed form: U + S + VT\n",
        "    compressed_elements = num_singular_values * (1 + m + n)\n",
        "    original_elements = m * n\n",
        "    return original_elements / compressed_elements\n",
        "\n",
        "# Function to evaluate image quality\n",
        "def evaluate_quality(original, compressed):\n",
        "    mse = np.mean((original - compressed) ** 2)\n",
        "    if mse == 0:\n",
        "        psnr = float('inf')\n",
        "    else:\n",
        "        psnr = 20 * np.log10(255.0 / np.sqrt(mse))\n",
        "    return mse, psnr\n",
        "\n",
        "# Function to plot images side by side\n",
        "def plot_images(original, compressed, num_singular_values, compression_ratio):\n",
        "    fig, ax = plt.subplots(1, 2, figsize=(12, 6))\n",
        "\n",
        "    ax[0].imshow(original, cmap='gray')\n",
        "    ax[0].set_title(\"Original Image\")\n",
        "    ax[0].axis('off')\n",
        "\n",
        "    ax[1].imshow(compressed, cmap='gray')\n",
        "    ax[1].set_title(f\"Compressed Image\\nSingular Values: {num_singular_values}\\nCompression Ratio: {compression_ratio:.2f}\")\n",
        "    ax[1].axis('off')\n",
        "\n",
        "    plt.tight_layout()\n",
        "    plt.show()\n",
        "\n",
        "# Main function to run the compression and evaluation process\n",
        "def main(image_path, num_singular_values_list):\n",
        "    # Load the image\n",
        "    original_image = load_image(image_path)\n",
        "\n",
        "    for num_singular_values in num_singular_values_list:\n",
        "        compressed_image = svd_compress(original_image, num_singular_values)\n",
        "        compression_ratio = calculate_compression_ratio(original_image, num_singular_values)\n",
        "        mse, psnr = evaluate_quality(original_image, compressed_image)\n",
        "\n",
        "        print(f\"Number of Singular Values: {num_singular_values}\")\n",
        "        print(f\"Compression Ratio: {compression_ratio:.2f}\")\n",
        "        print(f\"Mean Squared Error (MSE): {mse:.2f}\")\n",
        "        print(f\"PSNR (Peak Signal-to-Noise Ratio): {psnr:.2f} dB\")\n",
        "        print(\"-\" * 50)\n",
        "\n",
        "        plot_images(original_image, compressed_image, num_singular_values, compression_ratio)\n",
        "\n",
        "# Entry point\n",
        "if __name__ == \"__main__\":\n",
        "    # Use the correct path to your image\n",
        "    image_path = \"C:/Users/User/Downloads/image1.jpg\"\n",
        "\n",
        "    # Different singular values to evaluate\n",
        "    num_singular_values_list = [10, 50, 100, 200]\n",
        "\n",
        "    if not os.path.exists(image_path):\n",
        "        print(f\"Image not found at {image_path}\")\n",
        "    else:\n",
        "        main(image_path, num_singular_values_list)\n"
      ]
    },
    {
      "cell_type": "markdown",
      "source": [
        "| Metric                | Description                                                  |\n",
        "| --------------------- | ------------------------------------------------------------ |\n",
        "| **SVD**               | Decomposes image into U, Σ, Vᵀ for rank-k approximations     |\n",
        "| **Compression Ratio** | Original size ÷ compressed size                              |\n",
        "| **MSE**               | Mean squared error: measures pixel-wise reconstruction error |\n",
        "| **PSNR**              | Peak Signal-to-Noise Ratio: higher is better (in dB)         |\n"
      ],
      "metadata": {
        "id": "VW0IThjkNQ6m"
      }
    },
    {
      "cell_type": "markdown",
      "source": [],
      "metadata": {
        "id": "4N2R-oPoNQ-g"
      }
    }
  ]
}
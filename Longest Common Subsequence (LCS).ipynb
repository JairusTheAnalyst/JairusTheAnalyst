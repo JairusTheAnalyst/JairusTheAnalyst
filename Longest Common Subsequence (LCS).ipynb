{
  "nbformat": 4,
  "nbformat_minor": 0,
  "metadata": {
    "colab": {
      "provenance": [],
      "toc_visible": true,
      "authorship_tag": "ABX9TyPvFlFwDLC4hSrTVBYEOsCW",
      "include_colab_link": true
    },
    "kernelspec": {
      "name": "python3",
      "display_name": "Python 3"
    },
    "language_info": {
      "name": "python"
    }
  },
  "cells": [
    {
      "cell_type": "markdown",
      "metadata": {
        "id": "view-in-github",
        "colab_type": "text"
      },
      "source": [
        "<a href=\"https://colab.research.google.com/github/JairusTheAnalyst/JairusTheAnalyst/blob/main/Mulongo_Jairus_LCS.ipynb\" target=\"_parent\"><img src=\"https://colab.research.google.com/assets/colab-badge.svg\" alt=\"Open In Colab\"/></a>"
      ]
    },
    {
      "cell_type": "markdown",
      "source": [
        "# Longest Common Subsequence (LCS)"
      ],
      "metadata": {
        "id": "4gEFEeBSR3KQ"
      }
    },
    {
      "cell_type": "markdown",
      "source": [
        "The Longest Common Subsequence (LCS) problem is solved using bottom-up dynamic programming by building a 2D table dp such that dp[i][j] holds the length of the LCS of:\n",
        "\n",
        "\n",
        "\n",
        "*   The first i characters of s1\n",
        "*    The first j characters of s2\n",
        "\n",
        "Steps Involved:\n",
        "1. Initialization: A table of size (m+1) x (n+1) is initialized\n",
        "\n",
        "with zeros. This allows base cases where either string is empty.\n",
        "\n",
        "2. Filling the Table:\n",
        "\n",
        "If characters at s1[i-1] and s2[j-1] match, then the current cell is filled by extending the previous LCS:\n",
        "dp[i][j] = dp[i-1][j-1] + 1\n",
        "\n",
        "If they don't match, we take the maximum LCS length by either:\n",
        "\n",
        "* Ignoring a character from s1 (dp[i-1][j]), or\n",
        "\n",
        "* Ignoring a character from s2 (dp[i][j-1])\n",
        "\n",
        "3. Final Result: The value at dp[m][n] is the length of the longest subsequence common to both strings."
      ],
      "metadata": {
        "id": "kWWnKOvbSYwY"
      }
    },
    {
      "cell_type": "code",
      "execution_count": null,
      "metadata": {
        "id": "j9RABZcQRdRY"
      },
      "outputs": [],
      "source": [
        "def lcs(s1, s2):\n",
        "    m, n = len(s1), len(s2)\n",
        "\n",
        "    # Initialize a 2D dp table with 0s\n",
        "    dp = [[0] * (n + 1) for _ in range(m + 1)]\n",
        "\n",
        "    # Fill the table based on recurrence relation\n",
        "    for i in range(1, m + 1):\n",
        "        for j in range(1, n + 1):\n",
        "            if s1[i - 1] == s2[j - 1]:\n",
        "                dp[i][j] = dp[i - 1][j - 1] + 1  # Characters match\n",
        "            else:\n",
        "                dp[i][j] = max(dp[i - 1][j], dp[i][j - 1])  # Characters don't match\n",
        "\n",
        "    return dp[m][n]  # Length of LCS\n",
        "\n"
      ]
    },
    {
      "cell_type": "markdown",
      "source": [
        "Here’s how you can visualize the Dynamic Programming (DP) table for the Longest Common Subsequence (LCS) problem using your example:"
      ],
      "metadata": {
        "id": "89Srq4MyULcV"
      }
    },
    {
      "cell_type": "code",
      "source": [
        "\n",
        "\n",
        "s1 = \"ABCBDAB\"\n",
        "s2 = \"BDCAB\"\n",
        "\n",
        "print(\"Length of LCS:\", lcs(s1, s2))  # Output: 4\n"
      ],
      "metadata": {
        "colab": {
          "base_uri": "https://localhost:8080/"
        },
        "id": "px04lGJZUHKV",
        "outputId": "81563e5a-b440-4d32-d409-a6751151b693"
      },
      "execution_count": null,
      "outputs": [
        {
          "output_type": "stream",
          "name": "stdout",
          "text": [
            "Length of LCS: 4\n"
          ]
        }
      ]
    }
  ]
}

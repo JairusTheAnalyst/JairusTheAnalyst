{
  "nbformat": 4,
  "nbformat_minor": 0,
  "metadata": {
    "colab": {
      "provenance": [],
      "authorship_tag": "ABX9TyMg+yXSbfSXnQrn0x6+7TNl",
      "include_colab_link": true
    },
    "kernelspec": {
      "name": "python3",
      "display_name": "Python 3"
    },
    "language_info": {
      "name": "python"
    }
  },
  "cells": [
    {
      "cell_type": "markdown",
      "metadata": {
        "id": "view-in-github",
        "colab_type": "text"
      },
      "source": [
        "<a href=\"https://colab.research.google.com/github/JairusTheAnalyst/JairusTheAnalyst/blob/main/Mini_Project_6_Basic_Recommendation_Systems.ipynb\" target=\"_parent\"><img src=\"https://colab.research.google.com/assets/colab-badge.svg\" alt=\"Open In Colab\"/></a>"
      ]
    },
    {
      "cell_type": "code",
      "execution_count": 1,
      "metadata": {
        "colab": {
          "base_uri": "https://localhost:8080/"
        },
        "id": "NMdI-qhXP8yi",
        "outputId": "a75c3a81-cea4-44dd-afc9-05c11444d436"
      },
      "outputs": [
        {
          "output_type": "stream",
          "name": "stdout",
          "text": [
            "Original Ratings Matrix:\n",
            "[[nan nan nan nan  5.  2. nan nan]\n",
            " [nan  5.  4.  3.  5.  2.  4.  2.]\n",
            " [ 4. nan  1.  4.  2.  5. nan  1.]\n",
            " [ 1.  3.  3.  2. nan nan nan  4.]\n",
            " [nan  1. nan  5.  3.  5.  1. nan]\n",
            " [ 4.  1. nan  2.  2.  1.  2.  5.]\n",
            " [nan nan  4. nan  4.  5.  3. nan]\n",
            " [ 4.  2. nan  2. nan  4.  5. nan]\n",
            " [ 2.  4.  2. nan nan nan nan  5.]\n",
            " [ 5. nan nan nan  1.  4. nan  4.]]\n",
            "\n",
            "Predicted Ratings Matrix:\n",
            "[[2.82 3.36 3.19 2.44 3.98 2.57 3.44 3.58]\n",
            " [2.75 4.1  3.73 2.3  4.88 2.17 4.04 4.  ]\n",
            " [3.78 1.51 2.04 3.57 1.74 4.65 2.15 2.98]\n",
            " [2.62 2.9  2.8  2.29 3.43 2.48 3.02 3.19]\n",
            " [4.16 1.66 2.25 3.92 1.92 5.1  2.37 3.28]\n",
            " [2.58 2.25 2.31 2.32 2.65 2.68 2.47 2.78]\n",
            " [3.87 2.99 3.17 3.5  3.52 4.16 3.39 3.93]\n",
            " [3.52 2.89 3.01 3.17 3.4  3.72 3.22 3.68]\n",
            " [3.15 3.07 3.06 2.79 3.63 3.14 3.29 3.59]\n",
            " [3.95 2.09 2.52 3.67 2.44 4.64 2.67 3.43]]\n",
            "\n",
            "Mean Squared Error of Predictions: 0.9997\n",
            "\n",
            "Recommended Products for User 0: [7, 6, 1, 2, 0, 3]\n",
            "\n",
            "Scalability Analysis:\n",
            "Number of Users: 10\n",
            "Number of Products: 8\n",
            "Matrix Rank Used: 2\n"
          ]
        }
      ],
      "source": [
        "import numpy as np\n",
        "from sklearn.metrics import mean_squared_error\n",
        "\n",
        "# Simulate a dataset of user ratings\n",
        "np.random.seed(42)\n",
        "num_users = 10\n",
        "num_products = 8\n",
        "\n",
        "# Create a ratings matrix with some missing values (represented by NaN)\n",
        "ratings = np.random.randint(1, 6, size=(num_users, num_products)).astype(float)\n",
        "mask = np.random.choice([0, 1], size=ratings.shape, p=[0.3, 0.7]).astype(bool)\n",
        "ratings[~mask] = np.nan\n",
        "\n",
        "print(\"Original Ratings Matrix:\")\n",
        "print(ratings)\n",
        "\n",
        "# Low-rank matrix approximation using SVD\n",
        "def low_rank_approximation(ratings, rank):\n",
        "    # Step 1: Fill NaNs with column means\n",
        "    filled_ratings = ratings.copy()\n",
        "    col_means = np.nanmean(filled_ratings, axis=0)\n",
        "    inds = np.where(np.isnan(filled_ratings))\n",
        "    filled_ratings[inds] = np.take(col_means, inds[1])\n",
        "\n",
        "    # Step 2: Apply SVD\n",
        "    U, S, VT = np.linalg.svd(filled_ratings, full_matrices=False)\n",
        "    S_reduced = np.diag(S[:rank])\n",
        "    U_reduced = U[:, :rank]\n",
        "    VT_reduced = VT[:rank, :]\n",
        "\n",
        "    # Step 3: Reconstruct matrix with rank-k approximation\n",
        "    approx_ratings = np.dot(U_reduced, np.dot(S_reduced, VT_reduced))\n",
        "    return approx_ratings\n",
        "\n",
        "# Predict missing ratings\n",
        "rank = 2\n",
        "predicted_ratings = low_rank_approximation(ratings, rank)\n",
        "\n",
        "print(\"\\nPredicted Ratings Matrix:\")\n",
        "print(np.round(predicted_ratings, 2))\n",
        "\n",
        "# Accuracy analysis: compare known values\n",
        "def compute_mse(true_ratings, predicted_ratings, mask):\n",
        "    true_values = true_ratings[mask]\n",
        "    predicted_values = predicted_ratings[mask]\n",
        "    return mean_squared_error(true_values, predicted_values)\n",
        "\n",
        "mse = compute_mse(ratings, predicted_ratings, mask)\n",
        "\n",
        "print(\"\\nMean Squared Error of Predictions:\", round(mse, 4))\n",
        "\n",
        "# Recommendation: Recommend top products for a user with missing ratings\n",
        "user_id = 0\n",
        "user_ratings = ratings[user_id]\n",
        "pred_user_ratings = predicted_ratings[user_id]\n",
        "\n",
        "# Recommend items where original rating is missing\n",
        "missing_indices = np.isnan(user_ratings)\n",
        "recommended_products = np.argsort(pred_user_ratings[missing_indices])[::-1]\n",
        "recommended_product_ids = np.where(missing_indices)[0][recommended_products]\n",
        "\n",
        "print(f\"\\nRecommended Products for User {user_id}: {recommended_product_ids.tolist()}\")\n",
        "\n",
        "# Scalability analysis\n",
        "print(\"\\nScalability Analysis:\")\n",
        "print(\"Number of Users:\", num_users)\n",
        "print(\"Number of Products:\", num_products)\n",
        "print(\"Matrix Rank Used:\", rank)\n"
      ]
    },
    {
      "cell_type": "markdown",
      "source": [],
      "metadata": {
        "id": "vhRGz_pSQEhl"
      }
    }
  ]
}
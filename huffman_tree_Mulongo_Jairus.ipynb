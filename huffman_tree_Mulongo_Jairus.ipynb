{
  "nbformat": 4,
  "nbformat_minor": 0,
  "metadata": {
    "colab": {
      "provenance": [],
      "authorship_tag": "ABX9TyPepu+9oFwNmSlxpA5SOYX7",
      "include_colab_link": true
    },
    "kernelspec": {
      "name": "python3",
      "display_name": "Python 3"
    },
    "language_info": {
      "name": "python"
    }
  },
  "cells": [
    {
      "cell_type": "markdown",
      "metadata": {
        "id": "view-in-github",
        "colab_type": "text"
      },
      "source": [
        "<a href=\"https://colab.research.google.com/github/JairusTheAnalyst/JairusTheAnalyst/blob/main/huffman_tree_Mulongo_Jairus.ipynb\" target=\"_parent\"><img src=\"https://colab.research.google.com/assets/colab-badge.svg\" alt=\"Open In Colab\"/></a>"
      ]
    },
    {
      "cell_type": "code",
      "execution_count": null,
      "metadata": {
        "colab": {
          "base_uri": "https://localhost:8080/"
        },
        "id": "3a0EYw-0gNnM",
        "outputId": "c6ac218a-33bb-41a9-cf15-60aabead6c3a"
      },
      "outputs": [
        {
          "output_type": "stream",
          "name": "stdout",
          "text": [
            "Character\tHuffman Code\n",
            "F\t\t0\n",
            "C\t\t100\n",
            "D\t\t101\n",
            "A\t\t1100\n",
            "B\t\t1101\n",
            "E\t\t111\n"
          ]
        }
      ],
      "source": [
        "import heapq\n",
        "\n",
        "class Node:\n",
        "    def __init__(self, char, freq):\n",
        "        self.char = char        # Character\n",
        "        self.freq = freq        # Frequency\n",
        "        self.left = None        # Left child\n",
        "        self.right = None       # Right child\n",
        "\n",
        "    def __lt__(self, other):\n",
        "        return self.freq < other.freq  # For priority queue comparison\n",
        "\n",
        "def build_huffman_tree(char_freq):\n",
        "    # Create a min-heap of initial nodes\n",
        "    heap = [Node(char, freq) for char, freq in char_freq.items()]\n",
        "    heapq.heapify(heap)\n",
        "\n",
        "    while len(heap) > 1:\n",
        "        # Remove the two nodes with the lowest frequency\n",
        "        left = heapq.heappop(heap)\n",
        "        right = heapq.heappop(heap)\n",
        "\n",
        "        # Combine them into a new node\n",
        "        merged = Node(None, left.freq + right.freq)\n",
        "        merged.left = left\n",
        "        merged.right = right\n",
        "\n",
        "        # Add the merged node back into the heap\n",
        "        heapq.heappush(heap, merged)\n",
        "\n",
        "    # The root of the tree\n",
        "    return heap[0]\n",
        "\n",
        "def generate_codes(node, current_code=\"\", codes={}):\n",
        "    if node is None:\n",
        "        return\n",
        "\n",
        "    # If the node is a leaf, assign the code\n",
        "    if node.char is not None:\n",
        "        codes[node.char] = current_code\n",
        "        return\n",
        "\n",
        "    # Traverse left and right with updated code\n",
        "    generate_codes(node.left, current_code + \"0\", codes)\n",
        "    generate_codes(node.right, current_code + \"1\", codes)\n",
        "\n",
        "def huffman_coding(char_freq):\n",
        "    root = build_huffman_tree(char_freq)\n",
        "    codes = {}\n",
        "    generate_codes(root, \"\", codes)\n",
        "    return codes\n",
        "\n",
        "# Example usage:\n",
        "char_freq = {\n",
        "    'A': 5,\n",
        "    'B': 9,\n",
        "    'C': 12,\n",
        "    'D': 13,\n",
        "    'E': 16,\n",
        "    'F': 45\n",
        "}\n",
        "\n",
        "codes = huffman_coding(char_freq)\n",
        "\n",
        "print(\"Character\\tHuffman Code\")\n",
        "for char, code in codes.items():\n",
        "    print(f\"{char}\\t\\t{code}\")\n"
      ]
    }
  ]
}